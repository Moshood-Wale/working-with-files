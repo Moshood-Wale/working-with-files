{
    "cells": [
        {
            "cell_type": "code",
            "execution_count": 1,
            "source": [
                "import pandas as pd\n",
                "import re\n",
                "from module_Interface import ModuleInterface\n",
                "\n",
                "\n",
                "\n",
                "class ProcessSpreadSheet(ModuleInterface):\n",
                "\n",
                "    def __init__(self, filename):\n",
                "        self.filename = filename\n",
                "\n",
                "    def file_opening(self):\n",
                "        try:\n",
                "            file_extension = re.split('\\.', self.filename)\n",
                "            if file_extension[1] == 'tsv':\n",
                "                df = pd.read_csv(self.filename, sep=\"\\t\")\n",
                "                return df\n",
                "            elif file_extension[1] == 'csv':\n",
                "                df = pd.read_csv(self.filename)\n",
                "                return df\n",
                "        except FileNotFoundError:\n",
                "            return 'File not found or supported'\n",
                "\n",
                "    def iterator(self):\n",
                "        \n",
                "        try:\n",
                "            data = self.file_opening()\n",
                "            iterate_data = data.iterrows()\n",
                "            return iterate_data\n",
                "        \n",
                "        except Exception:\n",
                "            return 'File not found or supported'\n",
                "    \n",
                "    def iterate_files(self):\n",
                "        try:\n",
                "            data = self.file_opening()\n",
                "            for index, row in data.iterrows():\n",
                "                print(row)\n",
                "        except FileNotFoundError:\n",
                "            return \"File not found\"\n",
                "        except Exception:\n",
                "            return \"File not supported\"\n",
                "    \n",
                "    def read_whole_file(self):\n",
                "        try:\n",
                "            data = self.file_opening()\n",
                "            whole_content = data.to_string()\n",
                "            return whole_content\n",
                "        except FileNotFoundError:\n",
                "            return \"File not found\"\n",
                "        except Exception:\n",
                "            return \"File not supported\"\n",
                "    \n",
                "    def read_first_two_lines(self):\n",
                "        try:\n",
                "            data = self.file_opening()\n",
                "            first_two_lines = data.head(2)\n",
                "            return first_two_lines\n",
                "        except FileNotFoundError:\n",
                "            return \"File not found\"\n",
                "        except Exception:\n",
                "            return \"File not supported\"\n",
                "    \n",
                "    def read_last_two_lines(self):\n",
                "        try:\n",
                "            data = self.file_opening()\n",
                "            last_two_lines = data.tail(2)\n",
                "            return last_two_lines\n",
                "        \n",
                "        except FileNotFoundError:\n",
                "            return \"File not found\"\n",
                "\n",
                "\n",
                "ProcessSpreadSheet = ProcessSpreadSheet(\"filesample/csv_sample.csv\")\n",
                "reader = ProcessSpreadSheet.file_opening()\n",
                "reader1 = ProcessSpreadSheet.read_whole_file()\n",
                "reader2 = ProcessSpreadSheet.read_first_two_lines()\n",
                "reader3 = ProcessSpreadSheet.read_last_two_lines()\n",
                "\n",
                "\n",
                "print(reader)\n",
                "# print(reader1)\n",
                "# print(reader2)\n",
                "# print(reader3)\n",
                "\n"
            ],
            "outputs": [
                {
                    "output_type": "stream",
                    "name": "stdout",
                    "text": [
                        "         name\\tmonth\\thubby\n",
                        "0  hakeem\\tAugust\\tfootball\n",
                        "1   naseem\\tMarch\\tfootball\n"
                    ]
                }
            ],
            "metadata": {}
        },
        {
            "cell_type": "code",
            "execution_count": null,
            "source": [],
            "outputs": [],
            "metadata": {}
        }
    ],
    "metadata": {
        "orig_nbformat": 4,
        "language_info": {
            "name": "python",
            "version": "3.9.5",
            "mimetype": "text/x-python",
            "codemirror_mode": {
                "name": "ipython",
                "version": 3
            },
            "pygments_lexer": "ipython3",
            "nbconvert_exporter": "python",
            "file_extension": ".py"
        },
        "kernelspec": {
            "name": "python3",
            "display_name": "Python 3.9.5 64-bit ('3.9')"
        },
        "interpreter": {
            "hash": "7812ea015bdcee6f23a998adcdd2ef97c151c0c241b7b7070987d9313e41299d"
        }
    },
    "nbformat": 4,
    "nbformat_minor": 2
}